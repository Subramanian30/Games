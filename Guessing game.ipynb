{
 "cells": [
  {
   "cell_type": "code",
   "execution_count": 15,
   "id": "f86b70de",
   "metadata": {},
   "outputs": [],
   "source": [
    "from random import randint\n",
    "num= randint(1,101)\n"
   ]
  },
  {
   "cell_type": "code",
   "execution_count": null,
   "id": "4ed62abb",
   "metadata": {},
   "outputs": [
    {
     "name": "stdout",
     "output_type": "stream",
     "text": [
      "Welcome\n",
      "Guess a number between 1 and 100 55\n",
      "Cold\n",
      "Guess a number between 1 and 100 44\n",
      "Warmer\n"
     ]
    }
   ],
   "source": [
    "print(\"Welcome\")\n",
    "guess=[0]\n",
    "i=0\n",
    "flag=True\n",
    "while flag :\n",
    "    usernum= int(input(\"Guess a number between 1 and 100 \"))\n",
    "    if(usernum<=0 or usernum >100):\n",
    "        i=i+1\n",
    "        print(\"Invalid\")\n",
    "        \n",
    "    elif(usernum==num):\n",
    "        i=i+1\n",
    "        print(\"You Have Guessed It Correct in\",i,\"turns\")\n",
    "        print(num,\"is the Number\")\n",
    "        flag=False\n",
    "    else: \n",
    "        i=i+1\n",
    "        guess.append(usernum)\n",
    "        #guess[-2] produces 0 in first turn. 0 is false, so wont go into this statement\n",
    "        if(guess[-2]):\n",
    "            if(abs(num-usernum)>abs(num-guess[-2])):\n",
    "                print(\"Colder\")\n",
    "            else:\n",
    "                print(\"Warmer\")\n",
    "        else:\n",
    "            if(abs(num-usernum)>10):\n",
    "                print(\"Cold\")\n",
    "            else:\n",
    "                print(\"Warm\")\n",
    "    "
   ]
  }
 ],
 "metadata": {
  "kernelspec": {
   "display_name": "Python 3 (ipykernel)",
   "language": "python",
   "name": "python3"
  },
  "language_info": {
   "codemirror_mode": {
    "name": "ipython",
    "version": 3
   },
   "file_extension": ".py",
   "mimetype": "text/x-python",
   "name": "python",
   "nbconvert_exporter": "python",
   "pygments_lexer": "ipython3",
   "version": "3.9.7"
  }
 },
 "nbformat": 4,
 "nbformat_minor": 5
}
